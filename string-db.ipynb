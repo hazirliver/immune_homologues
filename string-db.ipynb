{
 "cells": [
  {
   "cell_type": "code",
   "execution_count": 1,
   "metadata": {
    "collapsed": true
   },
   "outputs": [],
   "source": [
    "import pandas as pd\n",
    "import networkx as nx"
   ]
  },
  {
   "cell_type": "markdown",
   "source": [
    "# ZC3HAV1_NPM1"
   ],
   "metadata": {
    "collapsed": false
   }
  },
  {
   "cell_type": "code",
   "execution_count": 18,
   "outputs": [],
   "source": [
    "ZC3HAV1_NPM1_df = pd.read_csv('./Input_data/string-db/ZC3HAV1_NPM1.tsv', sep='\\t')"
   ],
   "metadata": {
    "collapsed": false
   }
  },
  {
   "cell_type": "code",
   "execution_count": 19,
   "outputs": [
    {
     "data": {
      "text/plain": "      #node1    node2       node1_string_id       node2_string_id  \\\n0      AURKB  ZC3HAV1  9606.ENSP00000313950  9606.ENSP00000242351   \n1      AURKB    NSUN2  9606.ENSP00000313950  9606.ENSP00000264670   \n2      AURKB     TP53  9606.ENSP00000313950  9606.ENSP00000269305   \n3      AURKB     NPM1  9606.ENSP00000313950  9606.ENSP00000296930   \n4      AURKB      NCL  9606.ENSP00000313950  9606.ENSP00000318195   \n..       ...      ...                   ...                   ...   \n147     TP53    SUMO2  9606.ENSP00000269305  9606.ENSP00000405965   \n148     TP53      NCL  9606.ENSP00000269305  9606.ENSP00000318195   \n149     TP53     NPM1  9606.ENSP00000269305  9606.ENSP00000296930   \n150  ZC3HAV1    AURKB  9606.ENSP00000242351  9606.ENSP00000313950   \n151  ZC3HAV1     RPL8  9606.ENSP00000242351  9606.ENSP00000262584   \n\n     neighborhood_on_chromosome  gene_fusion  phylogenetic_cooccurrence  \\\n0                           0.0            0                        0.0   \n1                           0.0            0                        0.0   \n2                           0.0            0                        0.0   \n3                           0.0            0                        0.0   \n4                           0.0            0                        0.0   \n..                          ...          ...                        ...   \n147                         0.0            0                        0.0   \n148                         0.0            0                        0.0   \n149                         0.0            0                        0.0   \n150                         0.0            0                        0.0   \n151                         0.0            0                        0.0   \n\n     homology  coexpression  experimentally_determined_interaction  \\\n0         0.0         0.000                                  0.427   \n1         0.0         0.097                                  0.270   \n2         0.0         0.098                                  0.487   \n3         0.0         0.163                                  0.486   \n4         0.0         0.115                                  0.000   \n..        ...           ...                                    ...   \n147       0.0         0.054                                  0.282   \n148       0.0         0.062                                  0.675   \n149       0.0         0.096                                  0.875   \n150       0.0         0.000                                  0.427   \n151       0.0         0.071                                  0.461   \n\n     database_annotated  automated_textmining  combined_score  \n0                  0.00                     0           0.426  \n1                  0.90                     0           0.928  \n2                  0.60                     0           0.798  \n3                  0.90                     0           0.953  \n4                  0.90                     0           0.907  \n..                  ...                   ...             ...  \n147                0.90                     0           0.926  \n148                0.00                     0           0.682  \n149                0.65                     0           0.957  \n150                0.00                     0           0.426  \n151                0.00                     0           0.477  \n\n[152 rows x 13 columns]",
      "text/html": "<div>\n<style scoped>\n    .dataframe tbody tr th:only-of-type {\n        vertical-align: middle;\n    }\n\n    .dataframe tbody tr th {\n        vertical-align: top;\n    }\n\n    .dataframe thead th {\n        text-align: right;\n    }\n</style>\n<table border=\"1\" class=\"dataframe\">\n  <thead>\n    <tr style=\"text-align: right;\">\n      <th></th>\n      <th>#node1</th>\n      <th>node2</th>\n      <th>node1_string_id</th>\n      <th>node2_string_id</th>\n      <th>neighborhood_on_chromosome</th>\n      <th>gene_fusion</th>\n      <th>phylogenetic_cooccurrence</th>\n      <th>homology</th>\n      <th>coexpression</th>\n      <th>experimentally_determined_interaction</th>\n      <th>database_annotated</th>\n      <th>automated_textmining</th>\n      <th>combined_score</th>\n    </tr>\n  </thead>\n  <tbody>\n    <tr>\n      <th>0</th>\n      <td>AURKB</td>\n      <td>ZC3HAV1</td>\n      <td>9606.ENSP00000313950</td>\n      <td>9606.ENSP00000242351</td>\n      <td>0.0</td>\n      <td>0</td>\n      <td>0.0</td>\n      <td>0.0</td>\n      <td>0.000</td>\n      <td>0.427</td>\n      <td>0.00</td>\n      <td>0</td>\n      <td>0.426</td>\n    </tr>\n    <tr>\n      <th>1</th>\n      <td>AURKB</td>\n      <td>NSUN2</td>\n      <td>9606.ENSP00000313950</td>\n      <td>9606.ENSP00000264670</td>\n      <td>0.0</td>\n      <td>0</td>\n      <td>0.0</td>\n      <td>0.0</td>\n      <td>0.097</td>\n      <td>0.270</td>\n      <td>0.90</td>\n      <td>0</td>\n      <td>0.928</td>\n    </tr>\n    <tr>\n      <th>2</th>\n      <td>AURKB</td>\n      <td>TP53</td>\n      <td>9606.ENSP00000313950</td>\n      <td>9606.ENSP00000269305</td>\n      <td>0.0</td>\n      <td>0</td>\n      <td>0.0</td>\n      <td>0.0</td>\n      <td>0.098</td>\n      <td>0.487</td>\n      <td>0.60</td>\n      <td>0</td>\n      <td>0.798</td>\n    </tr>\n    <tr>\n      <th>3</th>\n      <td>AURKB</td>\n      <td>NPM1</td>\n      <td>9606.ENSP00000313950</td>\n      <td>9606.ENSP00000296930</td>\n      <td>0.0</td>\n      <td>0</td>\n      <td>0.0</td>\n      <td>0.0</td>\n      <td>0.163</td>\n      <td>0.486</td>\n      <td>0.90</td>\n      <td>0</td>\n      <td>0.953</td>\n    </tr>\n    <tr>\n      <th>4</th>\n      <td>AURKB</td>\n      <td>NCL</td>\n      <td>9606.ENSP00000313950</td>\n      <td>9606.ENSP00000318195</td>\n      <td>0.0</td>\n      <td>0</td>\n      <td>0.0</td>\n      <td>0.0</td>\n      <td>0.115</td>\n      <td>0.000</td>\n      <td>0.90</td>\n      <td>0</td>\n      <td>0.907</td>\n    </tr>\n    <tr>\n      <th>...</th>\n      <td>...</td>\n      <td>...</td>\n      <td>...</td>\n      <td>...</td>\n      <td>...</td>\n      <td>...</td>\n      <td>...</td>\n      <td>...</td>\n      <td>...</td>\n      <td>...</td>\n      <td>...</td>\n      <td>...</td>\n      <td>...</td>\n    </tr>\n    <tr>\n      <th>147</th>\n      <td>TP53</td>\n      <td>SUMO2</td>\n      <td>9606.ENSP00000269305</td>\n      <td>9606.ENSP00000405965</td>\n      <td>0.0</td>\n      <td>0</td>\n      <td>0.0</td>\n      <td>0.0</td>\n      <td>0.054</td>\n      <td>0.282</td>\n      <td>0.90</td>\n      <td>0</td>\n      <td>0.926</td>\n    </tr>\n    <tr>\n      <th>148</th>\n      <td>TP53</td>\n      <td>NCL</td>\n      <td>9606.ENSP00000269305</td>\n      <td>9606.ENSP00000318195</td>\n      <td>0.0</td>\n      <td>0</td>\n      <td>0.0</td>\n      <td>0.0</td>\n      <td>0.062</td>\n      <td>0.675</td>\n      <td>0.00</td>\n      <td>0</td>\n      <td>0.682</td>\n    </tr>\n    <tr>\n      <th>149</th>\n      <td>TP53</td>\n      <td>NPM1</td>\n      <td>9606.ENSP00000269305</td>\n      <td>9606.ENSP00000296930</td>\n      <td>0.0</td>\n      <td>0</td>\n      <td>0.0</td>\n      <td>0.0</td>\n      <td>0.096</td>\n      <td>0.875</td>\n      <td>0.65</td>\n      <td>0</td>\n      <td>0.957</td>\n    </tr>\n    <tr>\n      <th>150</th>\n      <td>ZC3HAV1</td>\n      <td>AURKB</td>\n      <td>9606.ENSP00000242351</td>\n      <td>9606.ENSP00000313950</td>\n      <td>0.0</td>\n      <td>0</td>\n      <td>0.0</td>\n      <td>0.0</td>\n      <td>0.000</td>\n      <td>0.427</td>\n      <td>0.00</td>\n      <td>0</td>\n      <td>0.426</td>\n    </tr>\n    <tr>\n      <th>151</th>\n      <td>ZC3HAV1</td>\n      <td>RPL8</td>\n      <td>9606.ENSP00000242351</td>\n      <td>9606.ENSP00000262584</td>\n      <td>0.0</td>\n      <td>0</td>\n      <td>0.0</td>\n      <td>0.0</td>\n      <td>0.071</td>\n      <td>0.461</td>\n      <td>0.00</td>\n      <td>0</td>\n      <td>0.477</td>\n    </tr>\n  </tbody>\n</table>\n<p>152 rows × 13 columns</p>\n</div>"
     },
     "execution_count": 19,
     "metadata": {},
     "output_type": "execute_result"
    }
   ],
   "source": [
    "ZC3HAV1_NPM1_df"
   ],
   "metadata": {
    "collapsed": false
   }
  },
  {
   "cell_type": "code",
   "execution_count": 20,
   "outputs": [],
   "source": [
    "G_ZC3HAV1_NPM1 = nx.from_pandas_edgelist(ZC3HAV1_NPM1_df, '#node1', 'node2')"
   ],
   "metadata": {
    "collapsed": false
   }
  },
  {
   "cell_type": "code",
   "execution_count": 75,
   "outputs": [
    {
     "data": {
      "text/plain": "EdgeView([('AURKB', 'ZC3HAV1'), ('AURKB', 'NSUN2'), ('AURKB', 'TP53'), ('AURKB', 'NPM1'), ('AURKB', 'NCL'), ('AURKB', 'SUMO3'), ('AURKB', 'SUMO2'), ('AURKB', 'CENPA'), ('ZC3HAV1', 'RPL8'), ('NSUN2', 'NCL'), ('NSUN2', 'NOP2'), ('NSUN2', 'NPM1'), ('TP53', 'EP300'), ('TP53', 'MDM2'), ('TP53', 'NCL'), ('TP53', 'NPM1'), ('TP53', 'RPL5'), ('TP53', 'SUMO2'), ('TP53', 'SUMO3'), ('NPM1', 'CENPA'), ('NPM1', 'EP300'), ('NPM1', 'HSPD1'), ('NPM1', 'MDM2'), ('NPM1', 'NCL'), ('NPM1', 'NOP2'), ('NPM1', 'RPL35'), ('NPM1', 'RPL8'), ('NPM1', 'SUMO3'), ('NPM1', 'SUMO2'), ('NPM1', 'RPL5'), ('NCL', 'HSPD1'), ('NCL', 'MDM2'), ('NCL', 'RPL18A'), ('NCL', 'RPS16'), ('NCL', 'RPL8'), ('NCL', 'RPL5'), ('SUMO3', 'MDM2'), ('SUMO3', 'SUMO2'), ('SUMO2', 'MDM2'), ('EP300', 'MDM2'), ('MDM2', 'RPL5'), ('HSPD1', 'HSPE1'), ('HSPE1', 'RPS11'), ('RPS11', 'RPL18A'), ('RPS11', 'RPL19'), ('RPS11', 'RPL35'), ('RPS11', 'RPL5'), ('RPS11', 'RPL8'), ('RPS11', 'RPS12'), ('RPS11', 'RPS16'), ('RPL5', 'NOP2'), ('RPL5', 'RPL18A'), ('RPL5', 'RPL19'), ('RPL5', 'RPL35'), ('RPL5', 'RPS12'), ('RPL5', 'RPS16'), ('RPL5', 'RPL8'), ('RPL18A', 'NOP2'), ('RPL18A', 'RPL35'), ('RPL18A', 'RPS12'), ('RPL18A', 'RPL19'), ('RPL18A', 'RPL8'), ('RPL18A', 'RPS16'), ('RPS16', 'RPL19'), ('RPS16', 'RPL35'), ('RPS16', 'RPL8'), ('RPS16', 'RPS12'), ('RPL8', 'NOP2'), ('RPL8', 'RPL19'), ('RPL8', 'RPL35'), ('RPL8', 'RPS12'), ('NOP2', 'RPL19'), ('NOP2', 'RPL35'), ('RPL19', 'RPL35'), ('RPL19', 'RPS12'), ('RPL35', 'RPS12')])"
     },
     "execution_count": 75,
     "metadata": {},
     "output_type": "execute_result"
    }
   ],
   "source": [
    "G_ZC3HAV1_NPM1.edges"
   ],
   "metadata": {
    "collapsed": false
   }
  },
  {
   "cell_type": "code",
   "execution_count": 76,
   "outputs": [
    {
     "data": {
      "text/plain": "networkx.classes.graph.Graph"
     },
     "execution_count": 76,
     "metadata": {},
     "output_type": "execute_result"
    }
   ],
   "source": [
    "type(G_ZC3HAV1_NPM1)"
   ],
   "metadata": {
    "collapsed": false
   }
  },
  {
   "cell_type": "code",
   "execution_count": 22,
   "outputs": [],
   "source": [
    "G_ZC3HAV1_NPM1_paths_generator = nx.all_simple_paths(G_ZC3HAV1_NPM1, source='ZC3HAV1', target='NPM1')"
   ],
   "metadata": {
    "collapsed": false
   }
  },
  {
   "cell_type": "code",
   "execution_count": 23,
   "outputs": [],
   "source": [
    "G_ZC3HAV1_NPM1_paths = [\n",
    "    path\n",
    "    for path in G_ZC3HAV1_NPM1_paths_generator\n",
    "    if len(path) <= 6\n",
    "]"
   ],
   "metadata": {
    "collapsed": false
   }
  },
  {
   "cell_type": "code",
   "execution_count": null,
   "outputs": [],
   "source": [
    "path_weights = []\n",
    "for path in G_ZC3HAV1_NPM1_paths:\n",
    "    weights = [G_ZC3HAV1_NPM1[path[i]][path[i+1]]['combined_score'] for i in range(len(path) - 1)]\n",
    "    path_weights.append((path, weights))\n"
   ],
   "metadata": {
    "collapsed": false
   }
  },
  {
   "cell_type": "code",
   "execution_count": 37,
   "outputs": [
    {
     "data": {
      "text/plain": "['ZC3HAV1', 'RPL8', 'RPS11', 'RPL35', 'NOP2', 'NPM1']"
     },
     "execution_count": 37,
     "metadata": {},
     "output_type": "execute_result"
    }
   ],
   "source": [
    "paths_mapping = {\n",
    "    f'path_{i}': path_with_weight[0]\n",
    "    for i, path_with_weight in enumerate(path_weights)\n",
    "}\n",
    "paths_mapping['path_318']"
   ],
   "metadata": {
    "collapsed": false
   }
  },
  {
   "cell_type": "code",
   "execution_count": 39,
   "outputs": [],
   "source": [
    "path_len = {}\n",
    "path_weight = {}\n",
    "\n",
    "for path_id, path in paths_mapping.items():\n",
    "    path_len[path_id] = len(path) - 1\n",
    "\n",
    "    weight = sum(\n",
    "        G_ZC3HAV1_NPM1[path[i]][path[i + 1]]['combined_score']\n",
    "        for i in range(len(path) - 1)\n",
    "    )\n",
    "    path_weight[path_id] = weight\n"
   ],
   "metadata": {
    "collapsed": false
   }
  },
  {
   "cell_type": "code",
   "execution_count": 44,
   "outputs": [],
   "source": [
    "G_ZC3HAV1_NPM1_paths_df = pd.DataFrame([paths_mapping, path_len, path_weight]).T\n",
    "G_ZC3HAV1_NPM1_paths_df.columns = ['Path', 'Length', 'Total_weight']"
   ],
   "metadata": {
    "collapsed": false
   }
  },
  {
   "cell_type": "code",
   "execution_count": 49,
   "outputs": [
    {
     "data": {
      "text/plain": "                                              Path Length Total_weight\npath_38                     [ZC3HAV1, AURKB, NPM1]      2        1.379\npath_155                     [ZC3HAV1, RPL8, NPM1]      2        1.218\npath_243               [ZC3HAV1, RPL8, RPL5, NPM1]      3        2.408\npath_104             [ZC3HAV1, AURKB, CENPA, NPM1]      3        2.353\npath_65                [ZC3HAV1, AURKB, NCL, NPM1]      3        2.329\n...                                            ...    ...          ...\npath_153  [ZC3HAV1, RPL8, NOP2, RPL5, RPL35, NPM1]      5        3.141\npath_151    [ZC3HAV1, RPL8, NOP2, RPL5, NCL, NPM1]      5        3.132\npath_135    [ZC3HAV1, RPL8, NCL, RPL5, NOP2, NPM1]      5        3.117\npath_121  [ZC3HAV1, RPL8, NCL, RPS16, RPL35, NPM1]      5        3.095\npath_240  [ZC3HAV1, RPL8, RPL5, NOP2, RPL35, NPM1]      5        3.019\n\n[332 rows x 3 columns]",
      "text/html": "<div>\n<style scoped>\n    .dataframe tbody tr th:only-of-type {\n        vertical-align: middle;\n    }\n\n    .dataframe tbody tr th {\n        vertical-align: top;\n    }\n\n    .dataframe thead th {\n        text-align: right;\n    }\n</style>\n<table border=\"1\" class=\"dataframe\">\n  <thead>\n    <tr style=\"text-align: right;\">\n      <th></th>\n      <th>Path</th>\n      <th>Length</th>\n      <th>Total_weight</th>\n    </tr>\n  </thead>\n  <tbody>\n    <tr>\n      <th>path_38</th>\n      <td>[ZC3HAV1, AURKB, NPM1]</td>\n      <td>2</td>\n      <td>1.379</td>\n    </tr>\n    <tr>\n      <th>path_155</th>\n      <td>[ZC3HAV1, RPL8, NPM1]</td>\n      <td>2</td>\n      <td>1.218</td>\n    </tr>\n    <tr>\n      <th>path_243</th>\n      <td>[ZC3HAV1, RPL8, RPL5, NPM1]</td>\n      <td>3</td>\n      <td>2.408</td>\n    </tr>\n    <tr>\n      <th>path_104</th>\n      <td>[ZC3HAV1, AURKB, CENPA, NPM1]</td>\n      <td>3</td>\n      <td>2.353</td>\n    </tr>\n    <tr>\n      <th>path_65</th>\n      <td>[ZC3HAV1, AURKB, NCL, NPM1]</td>\n      <td>3</td>\n      <td>2.329</td>\n    </tr>\n    <tr>\n      <th>...</th>\n      <td>...</td>\n      <td>...</td>\n      <td>...</td>\n    </tr>\n    <tr>\n      <th>path_153</th>\n      <td>[ZC3HAV1, RPL8, NOP2, RPL5, RPL35, NPM1]</td>\n      <td>5</td>\n      <td>3.141</td>\n    </tr>\n    <tr>\n      <th>path_151</th>\n      <td>[ZC3HAV1, RPL8, NOP2, RPL5, NCL, NPM1]</td>\n      <td>5</td>\n      <td>3.132</td>\n    </tr>\n    <tr>\n      <th>path_135</th>\n      <td>[ZC3HAV1, RPL8, NCL, RPL5, NOP2, NPM1]</td>\n      <td>5</td>\n      <td>3.117</td>\n    </tr>\n    <tr>\n      <th>path_121</th>\n      <td>[ZC3HAV1, RPL8, NCL, RPS16, RPL35, NPM1]</td>\n      <td>5</td>\n      <td>3.095</td>\n    </tr>\n    <tr>\n      <th>path_240</th>\n      <td>[ZC3HAV1, RPL8, RPL5, NOP2, RPL35, NPM1]</td>\n      <td>5</td>\n      <td>3.019</td>\n    </tr>\n  </tbody>\n</table>\n<p>332 rows × 3 columns</p>\n</div>"
     },
     "execution_count": 49,
     "metadata": {},
     "output_type": "execute_result"
    }
   ],
   "source": [
    "G_ZC3HAV1_NPM1_paths_df.sort_values(['Length', 'Total_weight'], ascending=[True, False])"
   ],
   "metadata": {
    "collapsed": false
   }
  },
  {
   "cell_type": "code",
   "execution_count": 58,
   "outputs": [
    {
     "data": {
      "text/plain": "'IgM, CRP, PTX3, Lymphotoxin, Alpha-defensins, Galectin-1, Complement C5, Mannose-binding lectin, CRISP-3, SAA, CRP-like protein, Ficolins, L-ficolin, M-ficolin, Pentraxin 2, Pentraxin 4, Serum amyloid P, Pentraxin 1, Collectin-10, Collectin-11, C1q, Properdin, CD59, TCR complex, BCR complex, Fc receptor, TLR complex, CD40, LFA-1, ICAM-1, TGF-β, CD97, CD46, CD55, CEACAM, CTLA-4, PD-1, TIM-3, CD97L, Dectin-1, CD44, MHC class I, MHC class II, CD1, HLA-G, FcεRI, Siglec-10, Siglec-5, Siglec-7, C-type lectin-like receptor 2'"
     },
     "execution_count": 58,
     "metadata": {},
     "output_type": "execute_result"
    }
   ],
   "source": [
    "b = tmp.split('\\n')\n",
    "', '.join([i.split(':')[0].strip() for i in b])"
   ],
   "metadata": {
    "collapsed": false
   }
  },
  {
   "cell_type": "code",
   "execution_count": 2,
   "outputs": [],
   "source": [
    "from string_db_parser import *"
   ],
   "metadata": {
    "collapsed": false
   }
  },
  {
   "cell_type": "code",
   "execution_count": 3,
   "outputs": [],
   "source": [
    "filepath = './Input_data/string-db/ZC3HAV1_NPM1.tsv'\n",
    "source_node = 'ZC3HAV1'\n",
    "target_node = 'NPM1'"
   ],
   "metadata": {
    "collapsed": false
   }
  },
  {
   "cell_type": "code",
   "execution_count": 4,
   "outputs": [
    {
     "name": "stderr",
     "output_type": "stream",
     "text": [
      "2023-03-12 23:08:10.230 | INFO     | string_db_parser:read_dataframe_from_file:22 - There are 152 edges in graph\n"
     ]
    }
   ],
   "source": [
    "nodes_df = read_dataframe_from_file(filepath)"
   ],
   "metadata": {
    "collapsed": false
   }
  },
  {
   "cell_type": "code",
   "execution_count": 5,
   "outputs": [],
   "source": [
    "graph = make_graph(nodes_df)"
   ],
   "metadata": {
    "collapsed": false
   }
  },
  {
   "cell_type": "code",
   "execution_count": 6,
   "outputs": [
    {
     "name": "stderr",
     "output_type": "stream",
     "text": [
      "2023-03-12 23:08:19.062 | INFO     | string_db_parser:get_paths:106 - All paths in the graph between ZC3HAV1 and NPM1 whose length does not exceed 5 will be found.\n",
      "2023-03-12 23:08:19.065 | INFO     | string_db_parser:get_paths:110 - Start searching for all paths...\n",
      "2023-03-12 23:13:50.640 | INFO     | string_db_parser:get_paths:116 - All paths were successfully found. Total: 332 paths\n"
     ]
    }
   ],
   "source": [
    "paths_list = get_paths(graph, source_node, target_node, node_dist_threshold=5)"
   ],
   "metadata": {
    "collapsed": false
   }
  },
  {
   "cell_type": "code",
   "execution_count": 7,
   "outputs": [
    {
     "data": {
      "text/plain": "[['ZC3HAV1', 'AURKB', 'NSUN2', 'NCL', 'HSPD1', 'NPM1'],\n ['ZC3HAV1', 'AURKB', 'NSUN2', 'NCL', 'MDM2', 'NPM1'],\n ['ZC3HAV1', 'AURKB', 'NSUN2', 'NCL', 'RPL8', 'NPM1'],\n ['ZC3HAV1', 'AURKB', 'NSUN2', 'NCL', 'TP53', 'NPM1'],\n ['ZC3HAV1', 'AURKB', 'NSUN2', 'NCL', 'NPM1'],\n ['ZC3HAV1', 'AURKB', 'NSUN2', 'NCL', 'RPL5', 'NPM1'],\n ['ZC3HAV1', 'AURKB', 'NSUN2', 'NOP2', 'RPL35', 'NPM1'],\n ['ZC3HAV1', 'AURKB', 'NSUN2', 'NOP2', 'RPL8', 'NPM1'],\n ['ZC3HAV1', 'AURKB', 'NSUN2', 'NOP2', 'NPM1'],\n ['ZC3HAV1', 'AURKB', 'NSUN2', 'NOP2', 'RPL5', 'NPM1'],\n ['ZC3HAV1', 'AURKB', 'NSUN2', 'NPM1'],\n ['ZC3HAV1', 'AURKB', 'TP53', 'EP300', 'MDM2', 'NPM1'],\n ['ZC3HAV1', 'AURKB', 'TP53', 'EP300', 'NPM1'],\n ['ZC3HAV1', 'AURKB', 'TP53', 'MDM2', 'EP300', 'NPM1'],\n ['ZC3HAV1', 'AURKB', 'TP53', 'MDM2', 'SUMO3', 'NPM1'],\n ['ZC3HAV1', 'AURKB', 'TP53', 'MDM2', 'NCL', 'NPM1'],\n ['ZC3HAV1', 'AURKB', 'TP53', 'MDM2', 'SUMO2', 'NPM1'],\n ['ZC3HAV1', 'AURKB', 'TP53', 'MDM2', 'NPM1'],\n ['ZC3HAV1', 'AURKB', 'TP53', 'MDM2', 'RPL5', 'NPM1'],\n ['ZC3HAV1', 'AURKB', 'TP53', 'NCL', 'HSPD1', 'NPM1'],\n ['ZC3HAV1', 'AURKB', 'TP53', 'NCL', 'MDM2', 'NPM1'],\n ['ZC3HAV1', 'AURKB', 'TP53', 'NCL', 'RPL8', 'NPM1'],\n ['ZC3HAV1', 'AURKB', 'TP53', 'NCL', 'NSUN2', 'NPM1'],\n ['ZC3HAV1', 'AURKB', 'TP53', 'NCL', 'NPM1'],\n ['ZC3HAV1', 'AURKB', 'TP53', 'NCL', 'RPL5', 'NPM1'],\n ['ZC3HAV1', 'AURKB', 'TP53', 'NPM1'],\n ['ZC3HAV1', 'AURKB', 'TP53', 'RPL5', 'MDM2', 'NPM1'],\n ['ZC3HAV1', 'AURKB', 'TP53', 'RPL5', 'NCL', 'NPM1'],\n ['ZC3HAV1', 'AURKB', 'TP53', 'RPL5', 'NOP2', 'NPM1'],\n ['ZC3HAV1', 'AURKB', 'TP53', 'RPL5', 'NPM1'],\n ['ZC3HAV1', 'AURKB', 'TP53', 'RPL5', 'RPL35', 'NPM1'],\n ['ZC3HAV1', 'AURKB', 'TP53', 'RPL5', 'RPL8', 'NPM1'],\n ['ZC3HAV1', 'AURKB', 'TP53', 'SUMO2', 'MDM2', 'NPM1'],\n ['ZC3HAV1', 'AURKB', 'TP53', 'SUMO2', 'NPM1'],\n ['ZC3HAV1', 'AURKB', 'TP53', 'SUMO2', 'SUMO3', 'NPM1'],\n ['ZC3HAV1', 'AURKB', 'TP53', 'SUMO3', 'MDM2', 'NPM1'],\n ['ZC3HAV1', 'AURKB', 'TP53', 'SUMO3', 'NPM1'],\n ['ZC3HAV1', 'AURKB', 'TP53', 'SUMO3', 'SUMO2', 'NPM1'],\n ['ZC3HAV1', 'AURKB', 'NPM1'],\n ['ZC3HAV1', 'AURKB', 'NCL', 'HSPD1', 'NPM1'],\n ['ZC3HAV1', 'AURKB', 'NCL', 'MDM2', 'EP300', 'NPM1'],\n ['ZC3HAV1', 'AURKB', 'NCL', 'MDM2', 'SUMO3', 'NPM1'],\n ['ZC3HAV1', 'AURKB', 'NCL', 'MDM2', 'SUMO2', 'NPM1'],\n ['ZC3HAV1', 'AURKB', 'NCL', 'MDM2', 'NPM1'],\n ['ZC3HAV1', 'AURKB', 'NCL', 'MDM2', 'RPL5', 'NPM1'],\n ['ZC3HAV1', 'AURKB', 'NCL', 'MDM2', 'TP53', 'NPM1'],\n ['ZC3HAV1', 'AURKB', 'NCL', 'RPL18A', 'NOP2', 'NPM1'],\n ['ZC3HAV1', 'AURKB', 'NCL', 'RPL18A', 'RPL5', 'NPM1'],\n ['ZC3HAV1', 'AURKB', 'NCL', 'RPL18A', 'RPL35', 'NPM1'],\n ['ZC3HAV1', 'AURKB', 'NCL', 'RPL18A', 'RPL8', 'NPM1'],\n ['ZC3HAV1', 'AURKB', 'NCL', 'RPS16', 'RPL35', 'NPM1'],\n ['ZC3HAV1', 'AURKB', 'NCL', 'RPS16', 'RPL5', 'NPM1'],\n ['ZC3HAV1', 'AURKB', 'NCL', 'RPS16', 'RPL8', 'NPM1'],\n ['ZC3HAV1', 'AURKB', 'NCL', 'RPL8', 'NOP2', 'NPM1'],\n ['ZC3HAV1', 'AURKB', 'NCL', 'RPL8', 'NPM1'],\n ['ZC3HAV1', 'AURKB', 'NCL', 'RPL8', 'RPL35', 'NPM1'],\n ['ZC3HAV1', 'AURKB', 'NCL', 'RPL8', 'RPL5', 'NPM1'],\n ['ZC3HAV1', 'AURKB', 'NCL', 'NSUN2', 'NOP2', 'NPM1'],\n ['ZC3HAV1', 'AURKB', 'NCL', 'NSUN2', 'NPM1'],\n ['ZC3HAV1', 'AURKB', 'NCL', 'TP53', 'EP300', 'NPM1'],\n ['ZC3HAV1', 'AURKB', 'NCL', 'TP53', 'MDM2', 'NPM1'],\n ['ZC3HAV1', 'AURKB', 'NCL', 'TP53', 'NPM1'],\n ['ZC3HAV1', 'AURKB', 'NCL', 'TP53', 'RPL5', 'NPM1'],\n ['ZC3HAV1', 'AURKB', 'NCL', 'TP53', 'SUMO2', 'NPM1'],\n ['ZC3HAV1', 'AURKB', 'NCL', 'TP53', 'SUMO3', 'NPM1'],\n ['ZC3HAV1', 'AURKB', 'NCL', 'NPM1'],\n ['ZC3HAV1', 'AURKB', 'NCL', 'RPL5', 'MDM2', 'NPM1'],\n ['ZC3HAV1', 'AURKB', 'NCL', 'RPL5', 'NOP2', 'NPM1'],\n ['ZC3HAV1', 'AURKB', 'NCL', 'RPL5', 'NPM1'],\n ['ZC3HAV1', 'AURKB', 'NCL', 'RPL5', 'RPL35', 'NPM1'],\n ['ZC3HAV1', 'AURKB', 'NCL', 'RPL5', 'RPL8', 'NPM1'],\n ['ZC3HAV1', 'AURKB', 'NCL', 'RPL5', 'TP53', 'NPM1'],\n ['ZC3HAV1', 'AURKB', 'SUMO3', 'MDM2', 'EP300', 'NPM1'],\n ['ZC3HAV1', 'AURKB', 'SUMO3', 'MDM2', 'NCL', 'NPM1'],\n ['ZC3HAV1', 'AURKB', 'SUMO3', 'MDM2', 'SUMO2', 'NPM1'],\n ['ZC3HAV1', 'AURKB', 'SUMO3', 'MDM2', 'NPM1'],\n ['ZC3HAV1', 'AURKB', 'SUMO3', 'MDM2', 'RPL5', 'NPM1'],\n ['ZC3HAV1', 'AURKB', 'SUMO3', 'MDM2', 'TP53', 'NPM1'],\n ['ZC3HAV1', 'AURKB', 'SUMO3', 'NPM1'],\n ['ZC3HAV1', 'AURKB', 'SUMO3', 'SUMO2', 'MDM2', 'NPM1'],\n ['ZC3HAV1', 'AURKB', 'SUMO3', 'SUMO2', 'NPM1'],\n ['ZC3HAV1', 'AURKB', 'SUMO3', 'SUMO2', 'TP53', 'NPM1'],\n ['ZC3HAV1', 'AURKB', 'SUMO3', 'TP53', 'EP300', 'NPM1'],\n ['ZC3HAV1', 'AURKB', 'SUMO3', 'TP53', 'MDM2', 'NPM1'],\n ['ZC3HAV1', 'AURKB', 'SUMO3', 'TP53', 'NCL', 'NPM1'],\n ['ZC3HAV1', 'AURKB', 'SUMO3', 'TP53', 'NPM1'],\n ['ZC3HAV1', 'AURKB', 'SUMO3', 'TP53', 'RPL5', 'NPM1'],\n ['ZC3HAV1', 'AURKB', 'SUMO3', 'TP53', 'SUMO2', 'NPM1'],\n ['ZC3HAV1', 'AURKB', 'SUMO2', 'MDM2', 'EP300', 'NPM1'],\n ['ZC3HAV1', 'AURKB', 'SUMO2', 'MDM2', 'SUMO3', 'NPM1'],\n ['ZC3HAV1', 'AURKB', 'SUMO2', 'MDM2', 'NCL', 'NPM1'],\n ['ZC3HAV1', 'AURKB', 'SUMO2', 'MDM2', 'NPM1'],\n ['ZC3HAV1', 'AURKB', 'SUMO2', 'MDM2', 'RPL5', 'NPM1'],\n ['ZC3HAV1', 'AURKB', 'SUMO2', 'MDM2', 'TP53', 'NPM1'],\n ['ZC3HAV1', 'AURKB', 'SUMO2', 'NPM1'],\n ['ZC3HAV1', 'AURKB', 'SUMO2', 'TP53', 'EP300', 'NPM1'],\n ['ZC3HAV1', 'AURKB', 'SUMO2', 'TP53', 'MDM2', 'NPM1'],\n ['ZC3HAV1', 'AURKB', 'SUMO2', 'TP53', 'NCL', 'NPM1'],\n ['ZC3HAV1', 'AURKB', 'SUMO2', 'TP53', 'NPM1'],\n ['ZC3HAV1', 'AURKB', 'SUMO2', 'TP53', 'RPL5', 'NPM1'],\n ['ZC3HAV1', 'AURKB', 'SUMO2', 'TP53', 'SUMO3', 'NPM1'],\n ['ZC3HAV1', 'AURKB', 'SUMO2', 'SUMO3', 'MDM2', 'NPM1'],\n ['ZC3HAV1', 'AURKB', 'SUMO2', 'SUMO3', 'NPM1'],\n ['ZC3HAV1', 'AURKB', 'SUMO2', 'SUMO3', 'TP53', 'NPM1'],\n ['ZC3HAV1', 'AURKB', 'CENPA', 'NPM1'],\n ['ZC3HAV1', 'RPL8', 'NCL', 'AURKB', 'NSUN2', 'NPM1'],\n ['ZC3HAV1', 'RPL8', 'NCL', 'AURKB', 'TP53', 'NPM1'],\n ['ZC3HAV1', 'RPL8', 'NCL', 'AURKB', 'NPM1'],\n ['ZC3HAV1', 'RPL8', 'NCL', 'AURKB', 'SUMO3', 'NPM1'],\n ['ZC3HAV1', 'RPL8', 'NCL', 'AURKB', 'SUMO2', 'NPM1'],\n ['ZC3HAV1', 'RPL8', 'NCL', 'AURKB', 'CENPA', 'NPM1'],\n ['ZC3HAV1', 'RPL8', 'NCL', 'HSPD1', 'NPM1'],\n ['ZC3HAV1', 'RPL8', 'NCL', 'MDM2', 'EP300', 'NPM1'],\n ['ZC3HAV1', 'RPL8', 'NCL', 'MDM2', 'SUMO3', 'NPM1'],\n ['ZC3HAV1', 'RPL8', 'NCL', 'MDM2', 'SUMO2', 'NPM1'],\n ['ZC3HAV1', 'RPL8', 'NCL', 'MDM2', 'NPM1'],\n ['ZC3HAV1', 'RPL8', 'NCL', 'MDM2', 'RPL5', 'NPM1'],\n ['ZC3HAV1', 'RPL8', 'NCL', 'MDM2', 'TP53', 'NPM1'],\n ['ZC3HAV1', 'RPL8', 'NCL', 'RPL18A', 'NOP2', 'NPM1'],\n ['ZC3HAV1', 'RPL8', 'NCL', 'RPL18A', 'RPL5', 'NPM1'],\n ['ZC3HAV1', 'RPL8', 'NCL', 'RPL18A', 'RPL35', 'NPM1'],\n ['ZC3HAV1', 'RPL8', 'NCL', 'RPS16', 'RPL35', 'NPM1'],\n ['ZC3HAV1', 'RPL8', 'NCL', 'RPS16', 'RPL5', 'NPM1'],\n ['ZC3HAV1', 'RPL8', 'NCL', 'NSUN2', 'AURKB', 'NPM1'],\n ['ZC3HAV1', 'RPL8', 'NCL', 'NSUN2', 'NOP2', 'NPM1'],\n ['ZC3HAV1', 'RPL8', 'NCL', 'NSUN2', 'NPM1'],\n ['ZC3HAV1', 'RPL8', 'NCL', 'TP53', 'AURKB', 'NPM1'],\n ['ZC3HAV1', 'RPL8', 'NCL', 'TP53', 'EP300', 'NPM1'],\n ['ZC3HAV1', 'RPL8', 'NCL', 'TP53', 'MDM2', 'NPM1'],\n ['ZC3HAV1', 'RPL8', 'NCL', 'TP53', 'NPM1'],\n ['ZC3HAV1', 'RPL8', 'NCL', 'TP53', 'RPL5', 'NPM1'],\n ['ZC3HAV1', 'RPL8', 'NCL', 'TP53', 'SUMO2', 'NPM1'],\n ['ZC3HAV1', 'RPL8', 'NCL', 'TP53', 'SUMO3', 'NPM1'],\n ['ZC3HAV1', 'RPL8', 'NCL', 'NPM1'],\n ['ZC3HAV1', 'RPL8', 'NCL', 'RPL5', 'MDM2', 'NPM1'],\n ['ZC3HAV1', 'RPL8', 'NCL', 'RPL5', 'NOP2', 'NPM1'],\n ['ZC3HAV1', 'RPL8', 'NCL', 'RPL5', 'NPM1'],\n ['ZC3HAV1', 'RPL8', 'NCL', 'RPL5', 'RPL35', 'NPM1'],\n ['ZC3HAV1', 'RPL8', 'NCL', 'RPL5', 'TP53', 'NPM1'],\n ['ZC3HAV1', 'RPL8', 'NOP2', 'RPL18A', 'NCL', 'NPM1'],\n ['ZC3HAV1', 'RPL8', 'NOP2', 'RPL18A', 'RPL5', 'NPM1'],\n ['ZC3HAV1', 'RPL8', 'NOP2', 'RPL18A', 'RPL35', 'NPM1'],\n ['ZC3HAV1', 'RPL8', 'NOP2', 'RPL19', 'RPL35', 'NPM1'],\n ['ZC3HAV1', 'RPL8', 'NOP2', 'RPL19', 'RPL5', 'NPM1'],\n ['ZC3HAV1', 'RPL8', 'NOP2', 'RPL35', 'NPM1'],\n ['ZC3HAV1', 'RPL8', 'NOP2', 'RPL35', 'RPL5', 'NPM1'],\n ['ZC3HAV1', 'RPL8', 'NOP2', 'NSUN2', 'AURKB', 'NPM1'],\n ['ZC3HAV1', 'RPL8', 'NOP2', 'NSUN2', 'NCL', 'NPM1'],\n ['ZC3HAV1', 'RPL8', 'NOP2', 'NSUN2', 'NPM1'],\n ['ZC3HAV1', 'RPL8', 'NOP2', 'NPM1'],\n ['ZC3HAV1', 'RPL8', 'NOP2', 'RPL5', 'MDM2', 'NPM1'],\n ['ZC3HAV1', 'RPL8', 'NOP2', 'RPL5', 'NCL', 'NPM1'],\n ['ZC3HAV1', 'RPL8', 'NOP2', 'RPL5', 'NPM1'],\n ['ZC3HAV1', 'RPL8', 'NOP2', 'RPL5', 'RPL35', 'NPM1'],\n ['ZC3HAV1', 'RPL8', 'NOP2', 'RPL5', 'TP53', 'NPM1'],\n ['ZC3HAV1', 'RPL8', 'NPM1'],\n ['ZC3HAV1', 'RPL8', 'RPL18A', 'NCL', 'AURKB', 'NPM1'],\n ['ZC3HAV1', 'RPL8', 'RPL18A', 'NCL', 'HSPD1', 'NPM1'],\n ['ZC3HAV1', 'RPL8', 'RPL18A', 'NCL', 'MDM2', 'NPM1'],\n ['ZC3HAV1', 'RPL8', 'RPL18A', 'NCL', 'NSUN2', 'NPM1'],\n ['ZC3HAV1', 'RPL8', 'RPL18A', 'NCL', 'TP53', 'NPM1'],\n ['ZC3HAV1', 'RPL8', 'RPL18A', 'NCL', 'NPM1'],\n ['ZC3HAV1', 'RPL8', 'RPL18A', 'NCL', 'RPL5', 'NPM1'],\n ['ZC3HAV1', 'RPL8', 'RPL18A', 'NOP2', 'RPL35', 'NPM1'],\n ['ZC3HAV1', 'RPL8', 'RPL18A', 'NOP2', 'NSUN2', 'NPM1'],\n ['ZC3HAV1', 'RPL8', 'RPL18A', 'NOP2', 'NPM1'],\n ['ZC3HAV1', 'RPL8', 'RPL18A', 'NOP2', 'RPL5', 'NPM1'],\n ['ZC3HAV1', 'RPL8', 'RPL18A', 'RPL5', 'MDM2', 'NPM1'],\n ['ZC3HAV1', 'RPL8', 'RPL18A', 'RPL5', 'NCL', 'NPM1'],\n ['ZC3HAV1', 'RPL8', 'RPL18A', 'RPL5', 'NOP2', 'NPM1'],\n ['ZC3HAV1', 'RPL8', 'RPL18A', 'RPL5', 'NPM1'],\n ['ZC3HAV1', 'RPL8', 'RPL18A', 'RPL5', 'RPL35', 'NPM1'],\n ['ZC3HAV1', 'RPL8', 'RPL18A', 'RPL5', 'TP53', 'NPM1'],\n ['ZC3HAV1', 'RPL8', 'RPL18A', 'RPS11', 'RPL35', 'NPM1'],\n ['ZC3HAV1', 'RPL8', 'RPL18A', 'RPS11', 'RPL5', 'NPM1'],\n ['ZC3HAV1', 'RPL8', 'RPL18A', 'RPL35', 'NOP2', 'NPM1'],\n ['ZC3HAV1', 'RPL8', 'RPL18A', 'RPL35', 'NPM1'],\n ['ZC3HAV1', 'RPL8', 'RPL18A', 'RPL35', 'RPL5', 'NPM1'],\n ['ZC3HAV1', 'RPL8', 'RPL18A', 'RPS12', 'RPL35', 'NPM1'],\n ['ZC3HAV1', 'RPL8', 'RPL18A', 'RPS12', 'RPL5', 'NPM1'],\n ['ZC3HAV1', 'RPL8', 'RPL18A', 'RPL19', 'NOP2', 'NPM1'],\n ['ZC3HAV1', 'RPL8', 'RPL18A', 'RPL19', 'RPL35', 'NPM1'],\n ['ZC3HAV1', 'RPL8', 'RPL18A', 'RPL19', 'RPL5', 'NPM1'],\n ['ZC3HAV1', 'RPL8', 'RPL18A', 'RPS16', 'NCL', 'NPM1'],\n ['ZC3HAV1', 'RPL8', 'RPL18A', 'RPS16', 'RPL35', 'NPM1'],\n ['ZC3HAV1', 'RPL8', 'RPL18A', 'RPS16', 'RPL5', 'NPM1'],\n ['ZC3HAV1', 'RPL8', 'RPL19', 'NOP2', 'RPL35', 'NPM1'],\n ['ZC3HAV1', 'RPL8', 'RPL19', 'NOP2', 'NSUN2', 'NPM1'],\n ['ZC3HAV1', 'RPL8', 'RPL19', 'NOP2', 'NPM1'],\n ['ZC3HAV1', 'RPL8', 'RPL19', 'NOP2', 'RPL5', 'NPM1'],\n ['ZC3HAV1', 'RPL8', 'RPL19', 'RPL18A', 'NCL', 'NPM1'],\n ['ZC3HAV1', 'RPL8', 'RPL19', 'RPL18A', 'NOP2', 'NPM1'],\n ['ZC3HAV1', 'RPL8', 'RPL19', 'RPL18A', 'RPL5', 'NPM1'],\n ['ZC3HAV1', 'RPL8', 'RPL19', 'RPL18A', 'RPL35', 'NPM1'],\n ['ZC3HAV1', 'RPL8', 'RPL19', 'RPL35', 'NOP2', 'NPM1'],\n ['ZC3HAV1', 'RPL8', 'RPL19', 'RPL35', 'NPM1'],\n ['ZC3HAV1', 'RPL8', 'RPL19', 'RPL35', 'RPL5', 'NPM1'],\n ['ZC3HAV1', 'RPL8', 'RPL19', 'RPS11', 'RPL35', 'NPM1'],\n ['ZC3HAV1', 'RPL8', 'RPL19', 'RPS11', 'RPL5', 'NPM1'],\n ['ZC3HAV1', 'RPL8', 'RPL19', 'RPL5', 'MDM2', 'NPM1'],\n ['ZC3HAV1', 'RPL8', 'RPL19', 'RPL5', 'NCL', 'NPM1'],\n ['ZC3HAV1', 'RPL8', 'RPL19', 'RPL5', 'NOP2', 'NPM1'],\n ['ZC3HAV1', 'RPL8', 'RPL19', 'RPL5', 'NPM1'],\n ['ZC3HAV1', 'RPL8', 'RPL19', 'RPL5', 'RPL35', 'NPM1'],\n ['ZC3HAV1', 'RPL8', 'RPL19', 'RPL5', 'TP53', 'NPM1'],\n ['ZC3HAV1', 'RPL8', 'RPL19', 'RPS12', 'RPL35', 'NPM1'],\n ['ZC3HAV1', 'RPL8', 'RPL19', 'RPS12', 'RPL5', 'NPM1'],\n ['ZC3HAV1', 'RPL8', 'RPL19', 'RPS16', 'NCL', 'NPM1'],\n ['ZC3HAV1', 'RPL8', 'RPL19', 'RPS16', 'RPL35', 'NPM1'],\n ['ZC3HAV1', 'RPL8', 'RPL19', 'RPS16', 'RPL5', 'NPM1'],\n ['ZC3HAV1', 'RPL8', 'RPL35', 'NOP2', 'NSUN2', 'NPM1'],\n ['ZC3HAV1', 'RPL8', 'RPL35', 'NOP2', 'NPM1'],\n ['ZC3HAV1', 'RPL8', 'RPL35', 'NOP2', 'RPL5', 'NPM1'],\n ['ZC3HAV1', 'RPL8', 'RPL35', 'NPM1'],\n ['ZC3HAV1', 'RPL8', 'RPL35', 'RPL18A', 'NCL', 'NPM1'],\n ['ZC3HAV1', 'RPL8', 'RPL35', 'RPL18A', 'NOP2', 'NPM1'],\n ['ZC3HAV1', 'RPL8', 'RPL35', 'RPL18A', 'RPL5', 'NPM1'],\n ['ZC3HAV1', 'RPL8', 'RPL35', 'RPL19', 'NOP2', 'NPM1'],\n ['ZC3HAV1', 'RPL8', 'RPL35', 'RPL19', 'RPL5', 'NPM1'],\n ['ZC3HAV1', 'RPL8', 'RPL35', 'RPS12', 'RPL5', 'NPM1'],\n ['ZC3HAV1', 'RPL8', 'RPL35', 'RPS16', 'NCL', 'NPM1'],\n ['ZC3HAV1', 'RPL8', 'RPL35', 'RPS16', 'RPL5', 'NPM1'],\n ['ZC3HAV1', 'RPL8', 'RPL35', 'RPL5', 'MDM2', 'NPM1'],\n ['ZC3HAV1', 'RPL8', 'RPL35', 'RPL5', 'NCL', 'NPM1'],\n ['ZC3HAV1', 'RPL8', 'RPL35', 'RPL5', 'NOP2', 'NPM1'],\n ['ZC3HAV1', 'RPL8', 'RPL35', 'RPL5', 'NPM1'],\n ['ZC3HAV1', 'RPL8', 'RPL35', 'RPL5', 'TP53', 'NPM1'],\n ['ZC3HAV1', 'RPL8', 'RPL35', 'RPS11', 'RPL5', 'NPM1'],\n ['ZC3HAV1', 'RPL8', 'RPL5', 'MDM2', 'EP300', 'NPM1'],\n ['ZC3HAV1', 'RPL8', 'RPL5', 'MDM2', 'SUMO3', 'NPM1'],\n ['ZC3HAV1', 'RPL8', 'RPL5', 'MDM2', 'NCL', 'NPM1'],\n ['ZC3HAV1', 'RPL8', 'RPL5', 'MDM2', 'SUMO2', 'NPM1'],\n ['ZC3HAV1', 'RPL8', 'RPL5', 'MDM2', 'NPM1'],\n ['ZC3HAV1', 'RPL8', 'RPL5', 'MDM2', 'TP53', 'NPM1'],\n ['ZC3HAV1', 'RPL8', 'RPL5', 'NCL', 'AURKB', 'NPM1'],\n ['ZC3HAV1', 'RPL8', 'RPL5', 'NCL', 'HSPD1', 'NPM1'],\n ['ZC3HAV1', 'RPL8', 'RPL5', 'NCL', 'MDM2', 'NPM1'],\n ['ZC3HAV1', 'RPL8', 'RPL5', 'NCL', 'NSUN2', 'NPM1'],\n ['ZC3HAV1', 'RPL8', 'RPL5', 'NCL', 'TP53', 'NPM1'],\n ['ZC3HAV1', 'RPL8', 'RPL5', 'NCL', 'NPM1'],\n ['ZC3HAV1', 'RPL8', 'RPL5', 'NOP2', 'RPL35', 'NPM1'],\n ['ZC3HAV1', 'RPL8', 'RPL5', 'NOP2', 'NSUN2', 'NPM1'],\n ['ZC3HAV1', 'RPL8', 'RPL5', 'NOP2', 'NPM1'],\n ['ZC3HAV1', 'RPL8', 'RPL5', 'NPM1'],\n ['ZC3HAV1', 'RPL8', 'RPL5', 'RPL18A', 'NCL', 'NPM1'],\n ['ZC3HAV1', 'RPL8', 'RPL5', 'RPL18A', 'NOP2', 'NPM1'],\n ['ZC3HAV1', 'RPL8', 'RPL5', 'RPL18A', 'RPL35', 'NPM1'],\n ['ZC3HAV1', 'RPL8', 'RPL5', 'RPL19', 'NOP2', 'NPM1'],\n ['ZC3HAV1', 'RPL8', 'RPL5', 'RPL19', 'RPL35', 'NPM1'],\n ['ZC3HAV1', 'RPL8', 'RPL5', 'RPL35', 'NOP2', 'NPM1'],\n ['ZC3HAV1', 'RPL8', 'RPL5', 'RPL35', 'NPM1'],\n ['ZC3HAV1', 'RPL8', 'RPL5', 'RPS12', 'RPL35', 'NPM1'],\n ['ZC3HAV1', 'RPL8', 'RPL5', 'RPS16', 'NCL', 'NPM1'],\n ['ZC3HAV1', 'RPL8', 'RPL5', 'RPS16', 'RPL35', 'NPM1'],\n ['ZC3HAV1', 'RPL8', 'RPL5', 'TP53', 'AURKB', 'NPM1'],\n ['ZC3HAV1', 'RPL8', 'RPL5', 'TP53', 'EP300', 'NPM1'],\n ['ZC3HAV1', 'RPL8', 'RPL5', 'TP53', 'MDM2', 'NPM1'],\n ['ZC3HAV1', 'RPL8', 'RPL5', 'TP53', 'NCL', 'NPM1'],\n ['ZC3HAV1', 'RPL8', 'RPL5', 'TP53', 'NPM1'],\n ['ZC3HAV1', 'RPL8', 'RPL5', 'TP53', 'SUMO2', 'NPM1'],\n ['ZC3HAV1', 'RPL8', 'RPL5', 'TP53', 'SUMO3', 'NPM1'],\n ['ZC3HAV1', 'RPL8', 'RPL5', 'RPS11', 'RPL35', 'NPM1'],\n ['ZC3HAV1', 'RPL8', 'RPS12', 'RPL18A', 'NCL', 'NPM1'],\n ['ZC3HAV1', 'RPL8', 'RPS12', 'RPL18A', 'NOP2', 'NPM1'],\n ['ZC3HAV1', 'RPL8', 'RPS12', 'RPL18A', 'RPL5', 'NPM1'],\n ['ZC3HAV1', 'RPL8', 'RPS12', 'RPL18A', 'RPL35', 'NPM1'],\n ['ZC3HAV1', 'RPL8', 'RPS12', 'RPL19', 'NOP2', 'NPM1'],\n ['ZC3HAV1', 'RPL8', 'RPS12', 'RPL19', 'RPL35', 'NPM1'],\n ['ZC3HAV1', 'RPL8', 'RPS12', 'RPL19', 'RPL5', 'NPM1'],\n ['ZC3HAV1', 'RPL8', 'RPS12', 'RPL35', 'NOP2', 'NPM1'],\n ['ZC3HAV1', 'RPL8', 'RPS12', 'RPL35', 'NPM1'],\n ['ZC3HAV1', 'RPL8', 'RPS12', 'RPL35', 'RPL5', 'NPM1'],\n ['ZC3HAV1', 'RPL8', 'RPS12', 'RPL5', 'MDM2', 'NPM1'],\n ['ZC3HAV1', 'RPL8', 'RPS12', 'RPL5', 'NCL', 'NPM1'],\n ['ZC3HAV1', 'RPL8', 'RPS12', 'RPL5', 'NOP2', 'NPM1'],\n ['ZC3HAV1', 'RPL8', 'RPS12', 'RPL5', 'NPM1'],\n ['ZC3HAV1', 'RPL8', 'RPS12', 'RPL5', 'RPL35', 'NPM1'],\n ['ZC3HAV1', 'RPL8', 'RPS12', 'RPL5', 'TP53', 'NPM1'],\n ['ZC3HAV1', 'RPL8', 'RPS12', 'RPS11', 'RPL35', 'NPM1'],\n ['ZC3HAV1', 'RPL8', 'RPS12', 'RPS11', 'RPL5', 'NPM1'],\n ['ZC3HAV1', 'RPL8', 'RPS12', 'RPS16', 'NCL', 'NPM1'],\n ['ZC3HAV1', 'RPL8', 'RPS12', 'RPS16', 'RPL35', 'NPM1'],\n ['ZC3HAV1', 'RPL8', 'RPS12', 'RPS16', 'RPL5', 'NPM1'],\n ['ZC3HAV1', 'RPL8', 'RPS16', 'NCL', 'AURKB', 'NPM1'],\n ['ZC3HAV1', 'RPL8', 'RPS16', 'NCL', 'HSPD1', 'NPM1'],\n ['ZC3HAV1', 'RPL8', 'RPS16', 'NCL', 'MDM2', 'NPM1'],\n ['ZC3HAV1', 'RPL8', 'RPS16', 'NCL', 'NSUN2', 'NPM1'],\n ['ZC3HAV1', 'RPL8', 'RPS16', 'NCL', 'TP53', 'NPM1'],\n ['ZC3HAV1', 'RPL8', 'RPS16', 'NCL', 'NPM1'],\n ['ZC3HAV1', 'RPL8', 'RPS16', 'NCL', 'RPL5', 'NPM1'],\n ['ZC3HAV1', 'RPL8', 'RPS16', 'RPL18A', 'NCL', 'NPM1'],\n ['ZC3HAV1', 'RPL8', 'RPS16', 'RPL18A', 'NOP2', 'NPM1'],\n ['ZC3HAV1', 'RPL8', 'RPS16', 'RPL18A', 'RPL5', 'NPM1'],\n ['ZC3HAV1', 'RPL8', 'RPS16', 'RPL18A', 'RPL35', 'NPM1'],\n ['ZC3HAV1', 'RPL8', 'RPS16', 'RPL19', 'NOP2', 'NPM1'],\n ['ZC3HAV1', 'RPL8', 'RPS16', 'RPL19', 'RPL35', 'NPM1'],\n ['ZC3HAV1', 'RPL8', 'RPS16', 'RPL19', 'RPL5', 'NPM1'],\n ['ZC3HAV1', 'RPL8', 'RPS16', 'RPL35', 'NOP2', 'NPM1'],\n ['ZC3HAV1', 'RPL8', 'RPS16', 'RPL35', 'NPM1'],\n ['ZC3HAV1', 'RPL8', 'RPS16', 'RPL35', 'RPL5', 'NPM1'],\n ['ZC3HAV1', 'RPL8', 'RPS16', 'RPL5', 'MDM2', 'NPM1'],\n ['ZC3HAV1', 'RPL8', 'RPS16', 'RPL5', 'NCL', 'NPM1'],\n ['ZC3HAV1', 'RPL8', 'RPS16', 'RPL5', 'NOP2', 'NPM1'],\n ['ZC3HAV1', 'RPL8', 'RPS16', 'RPL5', 'NPM1'],\n ['ZC3HAV1', 'RPL8', 'RPS16', 'RPL5', 'RPL35', 'NPM1'],\n ['ZC3HAV1', 'RPL8', 'RPS16', 'RPL5', 'TP53', 'NPM1'],\n ['ZC3HAV1', 'RPL8', 'RPS16', 'RPS11', 'RPL35', 'NPM1'],\n ['ZC3HAV1', 'RPL8', 'RPS16', 'RPS11', 'RPL5', 'NPM1'],\n ['ZC3HAV1', 'RPL8', 'RPS16', 'RPS12', 'RPL35', 'NPM1'],\n ['ZC3HAV1', 'RPL8', 'RPS16', 'RPS12', 'RPL5', 'NPM1'],\n ['ZC3HAV1', 'RPL8', 'RPS11', 'HSPE1', 'HSPD1', 'NPM1'],\n ['ZC3HAV1', 'RPL8', 'RPS11', 'RPL18A', 'NCL', 'NPM1'],\n ['ZC3HAV1', 'RPL8', 'RPS11', 'RPL18A', 'NOP2', 'NPM1'],\n ['ZC3HAV1', 'RPL8', 'RPS11', 'RPL18A', 'RPL5', 'NPM1'],\n ['ZC3HAV1', 'RPL8', 'RPS11', 'RPL18A', 'RPL35', 'NPM1'],\n ['ZC3HAV1', 'RPL8', 'RPS11', 'RPL19', 'NOP2', 'NPM1'],\n ['ZC3HAV1', 'RPL8', 'RPS11', 'RPL19', 'RPL35', 'NPM1'],\n ['ZC3HAV1', 'RPL8', 'RPS11', 'RPL19', 'RPL5', 'NPM1'],\n ['ZC3HAV1', 'RPL8', 'RPS11', 'RPL35', 'NOP2', 'NPM1'],\n ['ZC3HAV1', 'RPL8', 'RPS11', 'RPL35', 'NPM1'],\n ['ZC3HAV1', 'RPL8', 'RPS11', 'RPL35', 'RPL5', 'NPM1'],\n ['ZC3HAV1', 'RPL8', 'RPS11', 'RPL5', 'MDM2', 'NPM1'],\n ['ZC3HAV1', 'RPL8', 'RPS11', 'RPL5', 'NCL', 'NPM1'],\n ['ZC3HAV1', 'RPL8', 'RPS11', 'RPL5', 'NOP2', 'NPM1'],\n ['ZC3HAV1', 'RPL8', 'RPS11', 'RPL5', 'NPM1'],\n ['ZC3HAV1', 'RPL8', 'RPS11', 'RPL5', 'RPL35', 'NPM1'],\n ['ZC3HAV1', 'RPL8', 'RPS11', 'RPL5', 'TP53', 'NPM1'],\n ['ZC3HAV1', 'RPL8', 'RPS11', 'RPS12', 'RPL35', 'NPM1'],\n ['ZC3HAV1', 'RPL8', 'RPS11', 'RPS12', 'RPL5', 'NPM1'],\n ['ZC3HAV1', 'RPL8', 'RPS11', 'RPS16', 'NCL', 'NPM1'],\n ['ZC3HAV1', 'RPL8', 'RPS11', 'RPS16', 'RPL35', 'NPM1'],\n ['ZC3HAV1', 'RPL8', 'RPS11', 'RPS16', 'RPL5', 'NPM1']]"
     },
     "execution_count": 7,
     "metadata": {},
     "output_type": "execute_result"
    }
   ],
   "source": [
    "paths_list"
   ],
   "metadata": {
    "collapsed": false
   }
  },
  {
   "cell_type": "code",
   "execution_count": null,
   "outputs": [],
   "source": [],
   "metadata": {
    "collapsed": false
   }
  },
  {
   "cell_type": "code",
   "execution_count": 17,
   "outputs": [
    {
     "data": {
      "text/plain": "[None,\n None,\n None,\n None,\n None,\n None,\n None,\n None,\n None,\n None,\n None,\n None,\n None,\n None,\n None,\n None,\n None,\n None,\n None,\n None,\n None,\n None,\n None,\n None,\n None,\n None,\n None,\n None,\n None,\n None,\n None,\n None,\n None,\n None,\n None,\n None,\n None,\n None,\n None,\n None,\n None,\n None,\n None,\n None,\n None,\n None,\n None,\n None,\n None,\n None,\n None,\n None,\n None,\n None,\n None,\n None,\n None,\n None,\n None,\n None,\n None,\n None,\n None,\n None,\n None,\n None,\n None,\n None,\n None,\n None,\n None,\n None,\n None,\n None,\n None,\n None,\n None,\n None,\n None,\n None,\n None,\n None,\n None,\n None,\n None,\n None,\n None,\n None,\n None,\n None,\n None,\n None,\n None,\n None,\n None,\n None,\n None,\n None,\n None,\n None,\n None,\n None,\n None,\n None,\n None,\n None,\n None,\n None,\n None,\n None,\n None,\n None,\n None,\n None,\n None,\n None,\n None,\n None,\n None,\n None,\n None,\n None,\n None,\n None,\n None,\n None,\n None,\n None,\n None,\n None,\n None,\n None,\n None,\n None,\n None,\n None,\n None,\n None,\n None,\n None,\n None,\n None,\n None,\n None,\n None,\n None,\n None,\n None,\n None,\n None,\n None,\n None,\n None,\n None,\n None,\n None,\n None,\n None,\n None,\n None,\n None,\n None,\n None,\n None,\n None,\n None,\n None,\n None,\n None,\n None,\n None,\n None,\n None,\n None,\n None,\n None,\n None,\n None,\n None,\n None,\n None,\n None,\n None,\n None,\n None,\n None,\n None,\n None,\n None,\n None,\n None,\n None,\n None,\n None,\n None,\n None,\n None,\n None,\n None,\n None,\n None,\n None,\n None,\n None,\n None,\n None,\n None,\n None,\n None,\n None,\n None,\n None,\n None,\n None,\n None,\n None,\n None,\n None,\n None,\n None,\n None,\n None,\n None,\n None,\n None,\n None,\n None,\n None,\n None,\n None,\n None,\n None,\n None,\n None,\n None,\n None,\n None,\n None,\n None,\n None,\n None,\n None,\n None,\n None,\n None,\n None,\n None,\n None,\n None,\n None,\n None,\n None,\n None,\n None,\n None,\n None,\n None,\n None,\n None,\n None,\n None,\n None,\n None,\n None,\n None,\n None,\n None,\n None,\n None,\n None,\n None,\n None,\n None,\n None,\n None,\n None,\n None,\n None,\n None,\n None,\n None,\n None,\n None,\n None,\n None,\n None,\n None,\n None,\n None,\n None,\n None,\n None,\n None,\n None,\n None,\n None,\n None,\n None,\n None,\n None,\n None,\n None,\n None,\n None,\n None,\n None,\n None,\n None,\n None,\n None,\n None,\n None,\n None,\n None,\n None,\n None,\n None,\n None,\n None,\n None,\n None,\n None,\n None,\n None,\n None,\n None,\n None,\n None,\n None,\n None,\n None,\n None]"
     },
     "execution_count": 17,
     "metadata": {},
     "output_type": "execute_result"
    }
   ],
   "source": [
    "internal_nodes_list = []\n",
    "[internal_nodes_list.extend(path[1:-1]) for path in paths_list]"
   ],
   "metadata": {
    "collapsed": false
   }
  },
  {
   "cell_type": "code",
   "execution_count": 19,
   "outputs": [
    {
     "data": {
      "text/plain": "20"
     },
     "execution_count": 19,
     "metadata": {},
     "output_type": "execute_result"
    }
   ],
   "source": [
    "len(set(internal_nodes_list))"
   ],
   "metadata": {
    "collapsed": false
   }
  },
  {
   "cell_type": "code",
   "execution_count": 1,
   "outputs": [],
   "source": [
    "proteins_to_search = ['CRP', 'APCS', 'PTX3', 'PTX4', 'IGJ', 'PARP12', 'ZC3HAV1', 'NPM2', 'NPM1']"
   ],
   "metadata": {
    "collapsed": false
   }
  },
  {
   "cell_type": "code",
   "execution_count": 3,
   "outputs": [],
   "source": [
    "from itertools import combinations"
   ],
   "metadata": {
    "collapsed": false
   }
  },
  {
   "cell_type": "code",
   "execution_count": 31,
   "outputs": [],
   "source": [
    "pairwise_list = list(combinations(proteins_to_search, 2))"
   ],
   "metadata": {
    "collapsed": false
   }
  },
  {
   "cell_type": "code",
   "execution_count": 32,
   "outputs": [
    {
     "data": {
      "text/plain": "[('CRP', 'APCS'),\n ('CRP', 'PTX3'),\n ('CRP', 'PTX4'),\n ('CRP', 'IGJ'),\n ('CRP', 'PARP12'),\n ('CRP', 'ZC3HAV1'),\n ('CRP', 'NPM2'),\n ('CRP', 'NPM1'),\n ('APCS', 'PTX3'),\n ('APCS', 'PTX4'),\n ('APCS', 'IGJ'),\n ('APCS', 'PARP12'),\n ('APCS', 'ZC3HAV1'),\n ('APCS', 'NPM2'),\n ('APCS', 'NPM1'),\n ('PTX3', 'PTX4'),\n ('PTX3', 'IGJ'),\n ('PTX3', 'PARP12'),\n ('PTX3', 'ZC3HAV1'),\n ('PTX3', 'NPM2'),\n ('PTX3', 'NPM1'),\n ('PTX4', 'IGJ'),\n ('PTX4', 'PARP12'),\n ('PTX4', 'ZC3HAV1'),\n ('PTX4', 'NPM2'),\n ('PTX4', 'NPM1'),\n ('IGJ', 'PARP12'),\n ('IGJ', 'ZC3HAV1'),\n ('IGJ', 'NPM2'),\n ('IGJ', 'NPM1'),\n ('PARP12', 'ZC3HAV1'),\n ('PARP12', 'NPM2'),\n ('PARP12', 'NPM1'),\n ('ZC3HAV1', 'NPM2'),\n ('ZC3HAV1', 'NPM1'),\n ('NPM2', 'NPM1')]"
     },
     "execution_count": 32,
     "metadata": {},
     "output_type": "execute_result"
    }
   ],
   "source": [
    "pairwise_list"
   ],
   "metadata": {
    "collapsed": false
   }
  },
  {
   "cell_type": "code",
   "execution_count": 10,
   "outputs": [
    {
     "name": "stdout",
     "output_type": "stream",
     "text": [
      "CRP_APCS\n",
      "CRP_PTX3\n",
      "CRP_PTX4\n",
      "CRP_IGJ\n",
      "CRP_PARP12\n",
      "CRP_ZC3HAV1\n",
      "CRP_NPM2\n",
      "CRP_NPM1\n",
      "APCS_PTX3\n",
      "APCS_PTX4\n",
      "APCS_IGJ\n",
      "APCS_PARP12\n",
      "APCS_ZC3HAV1\n",
      "APCS_NPM2\n",
      "APCS_NPM1\n",
      "PTX3_PTX4\n",
      "PTX3_IGJ\n",
      "PTX3_PARP12\n",
      "PTX3_ZC3HAV1\n",
      "PTX3_NPM2\n",
      "PTX3_NPM1\n",
      "PTX4_IGJ\n",
      "PTX4_PARP12\n",
      "PTX4_ZC3HAV1\n",
      "PTX4_NPM2\n",
      "PTX4_NPM1\n",
      "IGJ_PARP12\n",
      "IGJ_ZC3HAV1\n",
      "IGJ_NPM2\n",
      "IGJ_NPM1\n",
      "PARP12_ZC3HAV1\n",
      "PARP12_NPM2\n",
      "PARP12_NPM1\n",
      "ZC3HAV1_NPM2\n",
      "ZC3HAV1_NPM1\n",
      "NPM2_NPM1\n"
     ]
    }
   ],
   "source": [
    "for pair in pairwise_list:\n",
    "    print('_'.join(pair))"
   ],
   "metadata": {
    "collapsed": false
   }
  },
  {
   "cell_type": "code",
   "execution_count": 11,
   "outputs": [],
   "source": [
    "import requests"
   ],
   "metadata": {
    "collapsed": false
   }
  },
  {
   "cell_type": "code",
   "execution_count": 13,
   "outputs": [],
   "source": [
    "string_api_url = \"https://version-11-5.string-db.org/api\"\n",
    "output_format = \"tsv\"\n",
    "method = \"network\""
   ],
   "metadata": {
    "collapsed": false
   }
  },
  {
   "cell_type": "code",
   "execution_count": 15,
   "outputs": [],
   "source": [
    "my_genes = [\"CDC42\",\"CDK1\"]\n"
   ],
   "metadata": {
    "collapsed": false
   }
  },
  {
   "cell_type": "code",
   "execution_count": 16,
   "outputs": [],
   "source": [
    "request_url = \"/\".join([string_api_url, output_format, method])"
   ],
   "metadata": {
    "collapsed": false
   }
  },
  {
   "cell_type": "code",
   "execution_count": 17,
   "outputs": [],
   "source": [
    "params = {\n",
    "\n",
    "    \"identifiers\" : \"%0d\".join(my_genes), # your protein\n",
    "    \"species\" : 9606, # species NCBI identifier\n",
    "    \"required_score\": 400,\n",
    "    \"network_type\": \"functional\",\n",
    "    \"add_nodes\": 5,\n",
    "    \"show_query_node_labels\": 1\n",
    "}"
   ],
   "metadata": {
    "collapsed": false
   }
  },
  {
   "cell_type": "code",
   "execution_count": 36,
   "outputs": [],
   "source": [
    "response = requests.post(request_url, data=params)"
   ],
   "metadata": {
    "collapsed": false
   }
  },
  {
   "cell_type": "code",
   "execution_count": 37,
   "outputs": [],
   "source": [
    "with open(\"response.txt\", \"w\") as f:\n",
    "    f.write(response.text)"
   ],
   "metadata": {
    "collapsed": false
   }
  },
  {
   "cell_type": "code",
   "execution_count": 21,
   "outputs": [],
   "source": [
    "import io"
   ],
   "metadata": {
    "collapsed": false
   }
  },
  {
   "cell_type": "code",
   "execution_count": 23,
   "outputs": [],
   "source": [
    "import pandas as pd"
   ],
   "metadata": {
    "collapsed": false
   }
  },
  {
   "cell_type": "code",
   "execution_count": 30,
   "outputs": [
    {
     "data": {
      "text/plain": "              stringId_A            stringId_B preferredName_A  \\\n0   9606.ENSP00000219255  9606.ENSP00000383118          PARD6A   \n1   9606.ENSP00000219255  9606.ENSP00000383118          PARD6A   \n2   9606.ENSP00000223023  9606.ENSP00000383118            WASL   \n3   9606.ENSP00000223023  9606.ENSP00000383118            WASL   \n4   9606.ENSP00000251496  9606.ENSP00000256442           NCAPG   \n5   9606.ENSP00000251496  9606.ENSP00000256442           NCAPG   \n6   9606.ENSP00000251496  9606.ENSP00000378699           NCAPG   \n7   9606.ENSP00000251496  9606.ENSP00000378699           NCAPG   \n8   9606.ENSP00000255465  9606.ENSP00000256442           CCNA1   \n9   9606.ENSP00000255465  9606.ENSP00000256442           CCNA1   \n10  9606.ENSP00000255465  9606.ENSP00000378699           CCNA1   \n11  9606.ENSP00000255465  9606.ENSP00000378699           CCNA1   \n12  9606.ENSP00000256442  9606.ENSP00000383118           CCNB1   \n13  9606.ENSP00000256442  9606.ENSP00000383118           CCNB1   \n14  9606.ENSP00000256442  9606.ENSP00000378699           CCNB1   \n15  9606.ENSP00000256442  9606.ENSP00000378699           CCNB1   \n16  9606.ENSP00000378699  9606.ENSP00000383118            CDK1   \n17  9606.ENSP00000378699  9606.ENSP00000383118            CDK1   \n\n   preferredName_B  ncbiTaxonId  score  nscore  fscore  pscore  ascore  \\\n0            CDC42         9606  0.999       0   0.000       0   0.062   \n1            CDC42         9606  0.999       0   0.000       0   0.062   \n2            CDC42         9606  0.999       0   0.000       0   0.064   \n3            CDC42         9606  0.999       0   0.000       0   0.064   \n4            CCNB1         9606  0.994       0   0.000       0   0.868   \n5            CCNB1         9606  0.994       0   0.000       0   0.868   \n6             CDK1         9606  0.999       0   0.000       0   0.992   \n7             CDK1         9606  0.999       0   0.000       0   0.992   \n8            CCNB1         9606  0.968       0   0.000       0   0.551   \n9            CCNB1         9606  0.968       0   0.000       0   0.551   \n10            CDK1         9606  0.999       0   0.004       0   0.764   \n11            CDK1         9606  0.999       0   0.004       0   0.764   \n12           CDC42         9606  0.446       0   0.000       0   0.049   \n13           CDC42         9606  0.446       0   0.000       0   0.049   \n14            CDK1         9606  0.999       0   0.000       0   0.968   \n15            CDK1         9606  0.999       0   0.000       0   0.968   \n16           CDC42         9606  0.564       0   0.000       0   0.062   \n17           CDC42         9606  0.564       0   0.000       0   0.062   \n\n    escore  dscore  tscore  \n0    0.967     0.9   0.986  \n1    0.967     0.9   0.986  \n2    0.971     0.9   0.994  \n3    0.971     0.9   0.994  \n4    0.000     0.9   0.621  \n5    0.000     0.9   0.621  \n6    0.281     0.9   0.538  \n7    0.281     0.9   0.538  \n8    0.181     0.9   0.812  \n9    0.181     0.9   0.812  \n10   0.867     0.9   0.989  \n11   0.867     0.9   0.989  \n12   0.145     0.0   0.374  \n13   0.145     0.0   0.374  \n14   0.999     0.9   0.995  \n15   0.999     0.9   0.995  \n16   0.102     0.0   0.524  \n17   0.102     0.0   0.524  ",
      "text/html": "<div>\n<style scoped>\n    .dataframe tbody tr th:only-of-type {\n        vertical-align: middle;\n    }\n\n    .dataframe tbody tr th {\n        vertical-align: top;\n    }\n\n    .dataframe thead th {\n        text-align: right;\n    }\n</style>\n<table border=\"1\" class=\"dataframe\">\n  <thead>\n    <tr style=\"text-align: right;\">\n      <th></th>\n      <th>stringId_A</th>\n      <th>stringId_B</th>\n      <th>preferredName_A</th>\n      <th>preferredName_B</th>\n      <th>ncbiTaxonId</th>\n      <th>score</th>\n      <th>nscore</th>\n      <th>fscore</th>\n      <th>pscore</th>\n      <th>ascore</th>\n      <th>escore</th>\n      <th>dscore</th>\n      <th>tscore</th>\n    </tr>\n  </thead>\n  <tbody>\n    <tr>\n      <th>0</th>\n      <td>9606.ENSP00000219255</td>\n      <td>9606.ENSP00000383118</td>\n      <td>PARD6A</td>\n      <td>CDC42</td>\n      <td>9606</td>\n      <td>0.999</td>\n      <td>0</td>\n      <td>0.000</td>\n      <td>0</td>\n      <td>0.062</td>\n      <td>0.967</td>\n      <td>0.9</td>\n      <td>0.986</td>\n    </tr>\n    <tr>\n      <th>1</th>\n      <td>9606.ENSP00000219255</td>\n      <td>9606.ENSP00000383118</td>\n      <td>PARD6A</td>\n      <td>CDC42</td>\n      <td>9606</td>\n      <td>0.999</td>\n      <td>0</td>\n      <td>0.000</td>\n      <td>0</td>\n      <td>0.062</td>\n      <td>0.967</td>\n      <td>0.9</td>\n      <td>0.986</td>\n    </tr>\n    <tr>\n      <th>2</th>\n      <td>9606.ENSP00000223023</td>\n      <td>9606.ENSP00000383118</td>\n      <td>WASL</td>\n      <td>CDC42</td>\n      <td>9606</td>\n      <td>0.999</td>\n      <td>0</td>\n      <td>0.000</td>\n      <td>0</td>\n      <td>0.064</td>\n      <td>0.971</td>\n      <td>0.9</td>\n      <td>0.994</td>\n    </tr>\n    <tr>\n      <th>3</th>\n      <td>9606.ENSP00000223023</td>\n      <td>9606.ENSP00000383118</td>\n      <td>WASL</td>\n      <td>CDC42</td>\n      <td>9606</td>\n      <td>0.999</td>\n      <td>0</td>\n      <td>0.000</td>\n      <td>0</td>\n      <td>0.064</td>\n      <td>0.971</td>\n      <td>0.9</td>\n      <td>0.994</td>\n    </tr>\n    <tr>\n      <th>4</th>\n      <td>9606.ENSP00000251496</td>\n      <td>9606.ENSP00000256442</td>\n      <td>NCAPG</td>\n      <td>CCNB1</td>\n      <td>9606</td>\n      <td>0.994</td>\n      <td>0</td>\n      <td>0.000</td>\n      <td>0</td>\n      <td>0.868</td>\n      <td>0.000</td>\n      <td>0.9</td>\n      <td>0.621</td>\n    </tr>\n    <tr>\n      <th>5</th>\n      <td>9606.ENSP00000251496</td>\n      <td>9606.ENSP00000256442</td>\n      <td>NCAPG</td>\n      <td>CCNB1</td>\n      <td>9606</td>\n      <td>0.994</td>\n      <td>0</td>\n      <td>0.000</td>\n      <td>0</td>\n      <td>0.868</td>\n      <td>0.000</td>\n      <td>0.9</td>\n      <td>0.621</td>\n    </tr>\n    <tr>\n      <th>6</th>\n      <td>9606.ENSP00000251496</td>\n      <td>9606.ENSP00000378699</td>\n      <td>NCAPG</td>\n      <td>CDK1</td>\n      <td>9606</td>\n      <td>0.999</td>\n      <td>0</td>\n      <td>0.000</td>\n      <td>0</td>\n      <td>0.992</td>\n      <td>0.281</td>\n      <td>0.9</td>\n      <td>0.538</td>\n    </tr>\n    <tr>\n      <th>7</th>\n      <td>9606.ENSP00000251496</td>\n      <td>9606.ENSP00000378699</td>\n      <td>NCAPG</td>\n      <td>CDK1</td>\n      <td>9606</td>\n      <td>0.999</td>\n      <td>0</td>\n      <td>0.000</td>\n      <td>0</td>\n      <td>0.992</td>\n      <td>0.281</td>\n      <td>0.9</td>\n      <td>0.538</td>\n    </tr>\n    <tr>\n      <th>8</th>\n      <td>9606.ENSP00000255465</td>\n      <td>9606.ENSP00000256442</td>\n      <td>CCNA1</td>\n      <td>CCNB1</td>\n      <td>9606</td>\n      <td>0.968</td>\n      <td>0</td>\n      <td>0.000</td>\n      <td>0</td>\n      <td>0.551</td>\n      <td>0.181</td>\n      <td>0.9</td>\n      <td>0.812</td>\n    </tr>\n    <tr>\n      <th>9</th>\n      <td>9606.ENSP00000255465</td>\n      <td>9606.ENSP00000256442</td>\n      <td>CCNA1</td>\n      <td>CCNB1</td>\n      <td>9606</td>\n      <td>0.968</td>\n      <td>0</td>\n      <td>0.000</td>\n      <td>0</td>\n      <td>0.551</td>\n      <td>0.181</td>\n      <td>0.9</td>\n      <td>0.812</td>\n    </tr>\n    <tr>\n      <th>10</th>\n      <td>9606.ENSP00000255465</td>\n      <td>9606.ENSP00000378699</td>\n      <td>CCNA1</td>\n      <td>CDK1</td>\n      <td>9606</td>\n      <td>0.999</td>\n      <td>0</td>\n      <td>0.004</td>\n      <td>0</td>\n      <td>0.764</td>\n      <td>0.867</td>\n      <td>0.9</td>\n      <td>0.989</td>\n    </tr>\n    <tr>\n      <th>11</th>\n      <td>9606.ENSP00000255465</td>\n      <td>9606.ENSP00000378699</td>\n      <td>CCNA1</td>\n      <td>CDK1</td>\n      <td>9606</td>\n      <td>0.999</td>\n      <td>0</td>\n      <td>0.004</td>\n      <td>0</td>\n      <td>0.764</td>\n      <td>0.867</td>\n      <td>0.9</td>\n      <td>0.989</td>\n    </tr>\n    <tr>\n      <th>12</th>\n      <td>9606.ENSP00000256442</td>\n      <td>9606.ENSP00000383118</td>\n      <td>CCNB1</td>\n      <td>CDC42</td>\n      <td>9606</td>\n      <td>0.446</td>\n      <td>0</td>\n      <td>0.000</td>\n      <td>0</td>\n      <td>0.049</td>\n      <td>0.145</td>\n      <td>0.0</td>\n      <td>0.374</td>\n    </tr>\n    <tr>\n      <th>13</th>\n      <td>9606.ENSP00000256442</td>\n      <td>9606.ENSP00000383118</td>\n      <td>CCNB1</td>\n      <td>CDC42</td>\n      <td>9606</td>\n      <td>0.446</td>\n      <td>0</td>\n      <td>0.000</td>\n      <td>0</td>\n      <td>0.049</td>\n      <td>0.145</td>\n      <td>0.0</td>\n      <td>0.374</td>\n    </tr>\n    <tr>\n      <th>14</th>\n      <td>9606.ENSP00000256442</td>\n      <td>9606.ENSP00000378699</td>\n      <td>CCNB1</td>\n      <td>CDK1</td>\n      <td>9606</td>\n      <td>0.999</td>\n      <td>0</td>\n      <td>0.000</td>\n      <td>0</td>\n      <td>0.968</td>\n      <td>0.999</td>\n      <td>0.9</td>\n      <td>0.995</td>\n    </tr>\n    <tr>\n      <th>15</th>\n      <td>9606.ENSP00000256442</td>\n      <td>9606.ENSP00000378699</td>\n      <td>CCNB1</td>\n      <td>CDK1</td>\n      <td>9606</td>\n      <td>0.999</td>\n      <td>0</td>\n      <td>0.000</td>\n      <td>0</td>\n      <td>0.968</td>\n      <td>0.999</td>\n      <td>0.9</td>\n      <td>0.995</td>\n    </tr>\n    <tr>\n      <th>16</th>\n      <td>9606.ENSP00000378699</td>\n      <td>9606.ENSP00000383118</td>\n      <td>CDK1</td>\n      <td>CDC42</td>\n      <td>9606</td>\n      <td>0.564</td>\n      <td>0</td>\n      <td>0.000</td>\n      <td>0</td>\n      <td>0.062</td>\n      <td>0.102</td>\n      <td>0.0</td>\n      <td>0.524</td>\n    </tr>\n    <tr>\n      <th>17</th>\n      <td>9606.ENSP00000378699</td>\n      <td>9606.ENSP00000383118</td>\n      <td>CDK1</td>\n      <td>CDC42</td>\n      <td>9606</td>\n      <td>0.564</td>\n      <td>0</td>\n      <td>0.000</td>\n      <td>0</td>\n      <td>0.062</td>\n      <td>0.102</td>\n      <td>0.0</td>\n      <td>0.524</td>\n    </tr>\n  </tbody>\n</table>\n</div>"
     },
     "execution_count": 30,
     "metadata": {},
     "output_type": "execute_result"
    }
   ],
   "source": [
    "pd.read_csv(io.StringIO(response.decode('utf-8')), sep='\\t')"
   ],
   "metadata": {
    "collapsed": false
   }
  },
  {
   "cell_type": "code",
   "execution_count": 27,
   "outputs": [
    {
     "ename": "AttributeError",
     "evalue": "'bytes' object has no attribute 'text'",
     "output_type": "error",
     "traceback": [
      "\u001B[0;31m---------------------------------------------------------------------------\u001B[0m",
      "\u001B[0;31mAttributeError\u001B[0m                            Traceback (most recent call last)",
      "Cell \u001B[0;32mIn [27], line 1\u001B[0m\n\u001B[0;32m----> 1\u001B[0m \u001B[38;5;28;01mfor\u001B[39;00m line \u001B[38;5;129;01min\u001B[39;00m response\u001B[38;5;241m.\u001B[39mtext\u001B[38;5;241m.\u001B[39mstrip()\u001B[38;5;241m.\u001B[39msplit(\u001B[38;5;124m\"\u001B[39m\u001B[38;5;130;01m\\n\u001B[39;00m\u001B[38;5;124m\"\u001B[39m):\n\u001B[1;32m      3\u001B[0m     l \u001B[38;5;241m=\u001B[39m line\u001B[38;5;241m.\u001B[39mstrip()\u001B[38;5;241m.\u001B[39msplit(\u001B[38;5;124m\"\u001B[39m\u001B[38;5;130;01m\\t\u001B[39;00m\u001B[38;5;124m\"\u001B[39m)\n\u001B[1;32m      4\u001B[0m     \u001B[38;5;28mprint\u001B[39m(l)\n",
      "\u001B[0;31mAttributeError\u001B[0m: 'bytes' object has no attribute 'text'"
     ]
    }
   ],
   "source": [
    "for line in response.text.strip().split(\"\\n\"):\n",
    "\n",
    "    l = line.strip().split(\"\\t\")\n",
    "    print(l)"
   ],
   "metadata": {
    "collapsed": false
   }
  },
  {
   "cell_type": "code",
   "execution_count": null,
   "outputs": [],
   "source": [],
   "metadata": {
    "collapsed": false
   }
  }
 ],
 "metadata": {
  "kernelspec": {
   "display_name": "Python 3",
   "language": "python",
   "name": "python3"
  },
  "language_info": {
   "codemirror_mode": {
    "name": "ipython",
    "version": 2
   },
   "file_extension": ".py",
   "mimetype": "text/x-python",
   "name": "python",
   "nbconvert_exporter": "python",
   "pygments_lexer": "ipython2",
   "version": "2.7.6"
  }
 },
 "nbformat": 4,
 "nbformat_minor": 0
}
