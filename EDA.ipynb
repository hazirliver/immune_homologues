{
 "cells": [
  {
   "cell_type": "code",
   "execution_count": 63,
   "metadata": {
    "collapsed": true
   },
   "outputs": [],
   "source": [
    "from pathlib import Path\n",
    "\n",
    "import pandas as pd\n",
    "from functools import reduce\n",
    "import networkx as nx\n",
    "import pickle\n",
    "\n",
    "from string_db_combined_graph import load_graphs_from_folder"
   ]
  },
  {
   "cell_type": "code",
   "execution_count": 68,
   "outputs": [],
   "source": [
    "with open('./Temporary_files/string_db/filtred_graph/filtered_graph.pickle', \"rb\") as f:\n",
    "    combined_graph = pickle.load(f)\n",
    "combined_graph_nodes = set(combined_graph.nodes)"
   ],
   "metadata": {
    "collapsed": false
   }
  },
  {
   "cell_type": "code",
   "execution_count": 103,
   "outputs": [
    {
     "data": {
      "text/plain": "['PARP8',\n 'PARP12',\n 'PARP6',\n 'PARP3',\n 'PARP9',\n 'PARP16',\n 'PARP4',\n 'PARP1',\n 'PARP10',\n 'PARP14',\n 'PARP2']"
     },
     "execution_count": 103,
     "metadata": {},
     "output_type": "execute_result"
    }
   ],
   "source": [
    "[gene for gene in combined_graph_nodes if 'PARP' in gene]"
   ],
   "metadata": {
    "collapsed": false
   }
  },
  {
   "cell_type": "code",
   "execution_count": 64,
   "outputs": [
    {
     "name": "stderr",
     "output_type": "stream",
     "text": [
      "2023-03-31 18:35:53.491 | INFO     | string_db_combined_graph:load_graphs_from_folder:56 - Successfully loaded 44 graphs\n"
     ]
    }
   ],
   "source": [
    "graphs_list = load_graphs_from_folder(Path('./Temporary_files/string_db'))"
   ],
   "metadata": {
    "collapsed": false
   }
  },
  {
   "cell_type": "code",
   "execution_count": 80,
   "outputs": [
    {
     "data": {
      "text/plain": "0"
     },
     "execution_count": 80,
     "metadata": {},
     "output_type": "execute_result"
    }
   ],
   "source": [
    "total = True\n",
    "for graph in graphs_list:\n",
    "    current_graph_nodes = set(graph.nodes)\n",
    "    total *= current_graph_nodes.intersection(combined_graph_nodes) == combined_graph_nodes\n",
    "total"
   ],
   "metadata": {
    "collapsed": false
   }
  },
  {
   "cell_type": "code",
   "execution_count": 110,
   "outputs": [],
   "source": [
    "with open('./Temporary_files/combined_graph_nodes.lst', 'w') as cgn_out:\n",
    "    for node in combined_graph_nodes:\n",
    "        cgn_out.write(node + '\\n')"
   ],
   "metadata": {
    "collapsed": false
   }
  },
  {
   "cell_type": "code",
   "execution_count": 121,
   "outputs": [],
   "source": [
    "from typing import List"
   ],
   "metadata": {
    "collapsed": false
   }
  },
  {
   "cell_type": "code",
   "execution_count": 134,
   "outputs": [],
   "source": [
    "def load_taxids(taxids_filepath: Path) -> List[int]:\n",
    "    with open(taxids_filepath, 'r') as taxids_file:\n",
    "        lines = taxids_file.readlines()\n",
    "        taxids_list = [int(line.strip()) for line in lines if line.strip() != '']\n",
    "        return taxids_list"
   ],
   "metadata": {
    "collapsed": false
   }
  },
  {
   "cell_type": "code",
   "execution_count": 135,
   "outputs": [],
   "source": [
    "taxids_list = load_taxids('./Input_data/Tetrapoda.ids')"
   ],
   "metadata": {
    "collapsed": false
   }
  },
  {
   "cell_type": "code",
   "execution_count": 136,
   "outputs": [],
   "source": [
    "orthologs_df = pd.read_csv('./Input_data/gene_orthologs', sep='\\t')"
   ],
   "metadata": {
    "collapsed": false
   }
  },
  {
   "cell_type": "code",
   "execution_count": 143,
   "outputs": [],
   "source": [
    "orthologs_df_hs = orthologs_df.loc[orthologs_df['#tax_id'] == 9606, :]\n",
    "orthologs_df_taxed = orthologs_df_hs.loc[orthologs_df['Other_tax_id'].isin(taxids_list), :]"
   ],
   "metadata": {
    "collapsed": false
   }
  },
  {
   "cell_type": "code",
   "execution_count": 144,
   "outputs": [
    {
     "data": {
      "text/plain": "         #tax_id     GeneID relationship  Other_tax_id  Other_GeneID\n882138      9606          1     Ortholog          9361     101415481\n882139      9606          1     Ortholog          9371     101642209\n882140      9606          1     Ortholog          9402     102894356\n882141      9606          1     Ortholog          9407     107500433\n882142      9606          1     Ortholog          9417     119051603\n...          ...        ...          ...           ...           ...\n7460820     9606  128706666     Ortholog         50954     129145976\n7460821     9606  128706666     Ortholog         84834     129046636\n7460822     9606  128854680     Ortholog         39638     129123180\n7460823     9606  128854680     Ortholog         50954     119234322\n7460824     9606  128854680     Ortholog         84834     118688462\n\n[5146827 rows x 5 columns]",
      "text/html": "<div>\n<style scoped>\n    .dataframe tbody tr th:only-of-type {\n        vertical-align: middle;\n    }\n\n    .dataframe tbody tr th {\n        vertical-align: top;\n    }\n\n    .dataframe thead th {\n        text-align: right;\n    }\n</style>\n<table border=\"1\" class=\"dataframe\">\n  <thead>\n    <tr style=\"text-align: right;\">\n      <th></th>\n      <th>#tax_id</th>\n      <th>GeneID</th>\n      <th>relationship</th>\n      <th>Other_tax_id</th>\n      <th>Other_GeneID</th>\n    </tr>\n  </thead>\n  <tbody>\n    <tr>\n      <th>882138</th>\n      <td>9606</td>\n      <td>1</td>\n      <td>Ortholog</td>\n      <td>9361</td>\n      <td>101415481</td>\n    </tr>\n    <tr>\n      <th>882139</th>\n      <td>9606</td>\n      <td>1</td>\n      <td>Ortholog</td>\n      <td>9371</td>\n      <td>101642209</td>\n    </tr>\n    <tr>\n      <th>882140</th>\n      <td>9606</td>\n      <td>1</td>\n      <td>Ortholog</td>\n      <td>9402</td>\n      <td>102894356</td>\n    </tr>\n    <tr>\n      <th>882141</th>\n      <td>9606</td>\n      <td>1</td>\n      <td>Ortholog</td>\n      <td>9407</td>\n      <td>107500433</td>\n    </tr>\n    <tr>\n      <th>882142</th>\n      <td>9606</td>\n      <td>1</td>\n      <td>Ortholog</td>\n      <td>9417</td>\n      <td>119051603</td>\n    </tr>\n    <tr>\n      <th>...</th>\n      <td>...</td>\n      <td>...</td>\n      <td>...</td>\n      <td>...</td>\n      <td>...</td>\n    </tr>\n    <tr>\n      <th>7460820</th>\n      <td>9606</td>\n      <td>128706666</td>\n      <td>Ortholog</td>\n      <td>50954</td>\n      <td>129145976</td>\n    </tr>\n    <tr>\n      <th>7460821</th>\n      <td>9606</td>\n      <td>128706666</td>\n      <td>Ortholog</td>\n      <td>84834</td>\n      <td>129046636</td>\n    </tr>\n    <tr>\n      <th>7460822</th>\n      <td>9606</td>\n      <td>128854680</td>\n      <td>Ortholog</td>\n      <td>39638</td>\n      <td>129123180</td>\n    </tr>\n    <tr>\n      <th>7460823</th>\n      <td>9606</td>\n      <td>128854680</td>\n      <td>Ortholog</td>\n      <td>50954</td>\n      <td>119234322</td>\n    </tr>\n    <tr>\n      <th>7460824</th>\n      <td>9606</td>\n      <td>128854680</td>\n      <td>Ortholog</td>\n      <td>84834</td>\n      <td>118688462</td>\n    </tr>\n  </tbody>\n</table>\n<p>5146827 rows × 5 columns</p>\n</div>"
     },
     "execution_count": 144,
     "metadata": {},
     "output_type": "execute_result"
    }
   ],
   "source": [
    "orthologs_df_taxed"
   ],
   "metadata": {
    "collapsed": false
   }
  },
  {
   "cell_type": "code",
   "execution_count": null,
   "outputs": [],
   "source": [],
   "metadata": {
    "collapsed": false
   }
  }
 ],
 "metadata": {
  "kernelspec": {
   "display_name": "Python 3",
   "language": "python",
   "name": "python3"
  },
  "language_info": {
   "codemirror_mode": {
    "name": "ipython",
    "version": 2
   },
   "file_extension": ".py",
   "mimetype": "text/x-python",
   "name": "python",
   "nbconvert_exporter": "python",
   "pygments_lexer": "ipython2",
   "version": "2.7.6"
  }
 },
 "nbformat": 4,
 "nbformat_minor": 0
}
